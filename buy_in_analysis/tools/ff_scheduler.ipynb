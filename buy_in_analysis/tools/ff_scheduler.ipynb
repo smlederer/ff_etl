{
 "cells": [
  {
   "cell_type": "code",
   "execution_count": 3,
   "metadata": {},
   "outputs": [],
   "source": [
    "#fantasy football python schedule maker\n",
    "# do a double round robin, take the first set of pairings and then add in w-n pairings where w is weeks and n is number of teams\n",
    "\n",
    "import random\n",
    "\n",
    "n_weeks = 14\n",
    "teams = ['Ch','S','B','D','N','Cy','J','A','Mi','Ma','Z','Mr']\n"
   ]
  },
  {
   "cell_type": "code",
   "execution_count": 7,
   "metadata": {},
   "outputs": [],
   "source": [
    "\n",
    "#initialize configurations of the round robin\n",
    "\n",
    "def round_robin_teams(teams, weeks=None):\n",
    "    random.shuffle(teams)\n",
    "    s = []\n",
    "    if len(teams) % 2 == 1: teams = teams + [None]\n",
    "\n",
    "    n_teams = len(teams)\n",
    "    index = list(range(n_teams))\n",
    "    midpoint = n_teams//2\n",
    "\n",
    "    #handle a way to get a schedule for weeks < teams\n",
    "    if weeks:\n",
    "        weeks = min(n_teams-1,weeks)\n",
    "    else:\n",
    "        weeks = n_teams-1\n",
    "\n",
    "    for i in range(weeks):\n",
    "        list_1 = index[:midpoint]\n",
    "        list_2 = index[midpoint:]\n",
    "        list_2.reverse()\n",
    "        round = []\n",
    "        for j in range(midpoint):\n",
    "            team_1 = teams[list_1[j]]\n",
    "            team_2 = teams[list_2[j]]\n",
    "            if j==0 and i%2 == 1:\n",
    "                round.append(sorted((team_2,team_1)))\n",
    "            else:\n",
    "                round.append(sorted((team_1,team_2)))\n",
    "        s.append(round)\n",
    "        index = index[midpoint:-1] + index[:midpoint] + index[-1:]\n",
    "\n",
    "    return s\n",
    "\n",
    "def ff_scheduler(weeks,teams):\n",
    "    if weeks > len(teams)-1:\n",
    "        remaining_weeks = weeks - (len(teams)-1)\n",
    "        schedule = list(round_robin_teams(teams)) + list(round_robin_teams(teams,weeks=remaining_weeks))\n",
    "    else:\n",
    "        schedule = list(round_robin_teams(teams))\n",
    "    return schedule\n"
   ]
  },
  {
   "cell_type": "code",
   "execution_count": 9,
   "metadata": {},
   "outputs": [
    {
     "name": "stdout",
     "output_type": "stream",
     "text": [
      "[['D', 'Ma'], ['Cy', 'S'], ['B', 'Z'], ['J', 'Mi'], ['A', 'Mr'], ['Ch', 'N']]\n",
      "[['D', 'N'], ['Ch', 'Mr'], ['A', 'J'], ['Mi', 'Z'], ['B', 'S'], ['Cy', 'Ma']]\n",
      "[['Cy', 'D'], ['B', 'Ma'], ['Mi', 'S'], ['A', 'Z'], ['Ch', 'J'], ['Mr', 'N']]\n",
      "[['D', 'Mr'], ['J', 'N'], ['Ch', 'Z'], ['A', 'S'], ['Ma', 'Mi'], ['B', 'Cy']]\n",
      "[['B', 'D'], ['Cy', 'Mi'], ['A', 'Ma'], ['Ch', 'S'], ['N', 'Z'], ['J', 'Mr']]\n",
      "[['D', 'J'], ['Mr', 'Z'], ['N', 'S'], ['Ch', 'Ma'], ['A', 'Cy'], ['B', 'Mi']]\n",
      "[['D', 'Mi'], ['A', 'B'], ['Ch', 'Cy'], ['Ma', 'N'], ['Mr', 'S'], ['J', 'Z']]\n",
      "[['D', 'Z'], ['J', 'S'], ['Ma', 'Mr'], ['Cy', 'N'], ['B', 'Ch'], ['A', 'Mi']]\n",
      "[['A', 'D'], ['Ch', 'Mi'], ['B', 'N'], ['Cy', 'Mr'], ['J', 'Ma'], ['S', 'Z']]\n",
      "[['D', 'S'], ['Ma', 'Z'], ['Cy', 'J'], ['B', 'Mr'], ['Mi', 'N'], ['A', 'Ch']]\n",
      "[['Ch', 'D'], ['A', 'N'], ['Mi', 'Mr'], ['B', 'J'], ['Cy', 'Z'], ['Ma', 'S']]\n",
      "[['D', 'Mi'], ['S', 'Z'], ['J', 'Mr'], ['A', 'B'], ['Ch', 'N'], ['Cy', 'Ma']]\n",
      "[['Cy', 'D'], ['Ch', 'Ma'], ['B', 'N'], ['A', 'Mr'], ['J', 'Z'], ['Mi', 'S']]\n",
      "[['D', 'S'], ['J', 'Mi'], ['A', 'Z'], ['Mr', 'N'], ['B', 'Ma'], ['Ch', 'Cy']]\n",
      "\n"
     ]
    }
   ],
   "source": [
    "#make it so that you cannot have back to back configurations?\n",
    "\n",
    "ff_schedule = ff_scheduler(14,teams)\n",
    "#random.shuffle(ff_schedule)\n",
    "\n",
    "[print(i) for i in ff_schedule]\n",
    "print()\n"
   ]
  }
 ],
 "metadata": {
  "kernelspec": {
   "display_name": "probenv",
   "language": "python",
   "name": "python3"
  },
  "language_info": {
   "codemirror_mode": {
    "name": "ipython",
    "version": 3
   },
   "file_extension": ".py",
   "mimetype": "text/x-python",
   "name": "python",
   "nbconvert_exporter": "python",
   "pygments_lexer": "ipython3",
   "version": "3.11.3"
  },
  "orig_nbformat": 4
 },
 "nbformat": 4,
 "nbformat_minor": 2
}
